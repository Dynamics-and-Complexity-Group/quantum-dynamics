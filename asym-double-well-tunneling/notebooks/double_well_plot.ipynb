{
 "cells": [
  {
   "cell_type": "markdown",
   "metadata": {},
   "source": [
    "# Dynamical System Analysis of Quantum Tunneling in an Asymmetric Double-Well Potential : Figure 1\n",
    "\n",
    "**Authors:**  \n",
    "Swetamber Das (ORCID: 0000-0002-2669-0842) <swetamber.p@srmap.edu.in>  \n",
    "Arghya Dutta (ORCID: 0000-0003-2116-6475) <arghya.d@srmap.edu.in>  \n",
    "Department of Physics, SRM University-AP, Amaravati 522240, Andhra Pradesh, India\n",
    "\n",
    "---\n",
    "**About:** *This notebook reproduces the asymmetric double-well potential corresponding to Figure 1 in the manuscript.*\n"
   ]
  },
  {
   "cell_type": "code",
   "execution_count": 8,
   "metadata": {},
   "outputs": [],
   "source": [
    "import matplotlib as mpl\n",
    "import matplotlib.pyplot as plt\n",
    "import numpy as np"
   ]
  },
  {
   "cell_type": "code",
   "execution_count": 9,
   "metadata": {},
   "outputs": [],
   "source": [
    "# Set Latex fonts\n",
    "new_rc_params = {\n",
    "    \"text.usetex\": True,\n",
    "    \"text.latex.preamble\": r\"\\usepackage{amsmath}\",\n",
    "    \"font.size\": \"9\",\n",
    "    \"font.family\": \"serif\",\n",
    "    \"xtick.labelsize\": 9,\n",
    "    \"ytick.labelsize\": 9,\n",
    "}\n",
    "mpl.rcParams.update(new_rc_params)"
   ]
  },
  {
   "cell_type": "code",
   "execution_count": 10,
   "metadata": {},
   "outputs": [],
   "source": [
    "# potential\n",
    "\n",
    "def phi(x, a, b, c):\n",
    "    return (a * x**2) / 2 - (b * x**3) / 3 + (c * x**4) / 4"
   ]
  },
  {
   "cell_type": "code",
   "execution_count": 11,
   "metadata": {},
   "outputs": [],
   "source": [
    "# parameters for plot\n",
    "\n",
    "x = np.arange(-10, 15, 0.01)\n",
    "\n",
    "a=10\n",
    "b=4\n",
    "\n",
    "c0 = (2 * b**2) / (9 * a)\n",
    "c0prime = b**2 / (4 * a)\n",
    "# print(c0, c0prime)\n",
    "delta = 0.02\n",
    "c_asym = 0.35\n",
    "c_vals = [c0prime + delta, c0prime, c0prime - delta, c0, c_asym]"
   ]
  },
  {
   "cell_type": "code",
   "execution_count": 12,
   "metadata": {},
   "outputs": [
    {
     "data": {
      "image/png": "[encoded data removed]",
      "text/plain": [
       "<Figure size 230.4x180 with 1 Axes>"
      ]
     },
     "metadata": {
      "needs_background": "light"
     },
     "output_type": "display_data"
    }
   ],
   "source": [
    "# plot\n",
    "\n",
    "labels = [r\"(A) $c>c_0'$\", r\"(B) $c=c_0'$\", r\"(C) $c_0<c<c_0'$\", r\"(D) $c=c_0$\", rf\"(E) $c <c_0$\"]\n",
    "\n",
    "cmap = mpl.colormaps[\"Greys\"]\n",
    "colors_list = [cmap(x) for x in np.linspace(0.3, 0.8, 4)]\n",
    "colors = [*colors_list, \"#0059b3\"]\n",
    "linestyle = ['-','-','-','-','--']\n",
    "\n",
    "\n",
    "fig, ax = plt.subplots(1, figsize=(3.2, 2.5), constrained_layout=True)\n",
    "for i, c_val in enumerate(c_vals):\n",
    "    ax.plot(\n",
    "        x,\n",
    "        phi(x, a, b, c_val),\n",
    "        label=rf\"{labels[i]}\",\n",
    "        color=colors[i],\n",
    "        ls=linestyle[i]\n",
    "    )\n",
    "ax.axhline(y=0, color=\"gray\", lw=1, linestyle=\"--\")\n",
    "ax.axvline(x=0, color=\"gray\", lw=1, linestyle=\"--\")\n",
    "\n",
    "leg = ax.legend(\n",
    "    ncol=3,\n",
    "    loc=\"lower center\",\n",
    "    bbox_to_anchor=(.5, 1.0),\n",
    "    frameon=False,\n",
    "    handletextpad=0.4,\n",
    "    columnspacing=0.7,\n",
    "    labelspacing=0.3,\n",
    ")\n",
    "\n",
    "ax.text(5.3,28,'A')\n",
    "ax.text(6.3,26,'B')\n",
    "ax.text(7.3,24,'C')\n",
    "ax.text(8.5,21,'D')\n",
    "ax.text(9.5,17,'E')\n",
    "# for text, line in zip(leg.get_texts(), leg.get_lines()):\n",
    "#     text.set_color(line.get_color())\n",
    "\n",
    "ax.set_xlim(-2, 10)\n",
    "ax.set_ylim(-7, 35)\n",
    "ax.set_xlabel(r\"$x$\")\n",
    "ax.set_ylabel(r\"$\\phi(x)$\")\n",
    "\n",
    "fig.savefig(\"fig1.pdf\", bbox_inches=\"tight\")\n",
    "pass;"
   ]
  }
 ],
 "metadata": {
  "kernelspec": {
   "display_name": "Python 3 (ipykernel)",
   "language": "python",
   "name": "python3"
  },
  "language_info": {
   "codemirror_mode": {
    "name": "ipython",
    "version": 3
   },
   "file_extension": ".py",
   "mimetype": "text/x-python",
   "name": "python",
   "nbconvert_exporter": "python",
   "pygments_lexer": "ipython3",
   "version": "3.9.12"
  }
 },
 "nbformat": 4,
 "nbformat_minor": 2
}
